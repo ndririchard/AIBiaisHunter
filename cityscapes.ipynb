{
 "cells": [
  {
   "cell_type": "code",
   "execution_count": 24,
   "metadata": {},
   "outputs": [],
   "source": [
    "import os\n",
    "import cv2\n",
    "import pandas as pd\n",
    "import numpy as np"
   ]
  },
  {
   "attachments": {},
   "cell_type": "markdown",
   "metadata": {},
   "source": [
    "## Load data"
   ]
  },
  {
   "cell_type": "code",
   "execution_count": 25,
   "metadata": {},
   "outputs": [],
   "source": [
    "label_colors = [    \n",
    "    [128, 64, 128], [244, 35, 232], [70, 70, 70], [102, 102, 156], \n",
    "    [190, 153, 153], [153, 153, 153], [250, 170, 30], [220, 220, 0], \n",
    "    [107, 142, 35], [152, 251, 152], [70, 130, 180], [220, 20, 60], \n",
    "    [255, 0, 0], [0, 0, 142], [0, 0, 70], [0, 60, 100], [0, 80, 100], \n",
    "    [0, 0, 230], [119, 11, 32], [0, 0, 0]\n",
    "]\n",
    "\n",
    "label_names = [    \n",
    "    'road', 'sidewalk', 'building', 'wall', 'fence', 'pole', 'traffic light',     \n",
    "    'traffic sign', 'vegetation', 'terrain', 'sky', 'person', 'rider', 'car', \n",
    "    'truck', 'bus', 'train', 'motorcycle', 'bicycle', 'unlabeled']\n",
    "\n",
    "label_dict = {label_names[i]: label_colors[i] for i in range(len(label_names))}"
   ]
  },
  {
   "cell_type": "code",
   "execution_count": 26,
   "metadata": {},
   "outputs": [],
   "source": [
    "data_dir = 'gtFine/'\n",
    "path_to_images = None\n",
    "for dir in ['train', 'val']:\n",
    "    split_dir = data_dir + dir + '/'\n",
    "    path_to_images = [f'{split_dir}{f}' for f in \\\n",
    "         os.listdir(split_dir) if f.endswith('_gtFine_color.png')]"
   ]
  },
  {
   "cell_type": "code",
   "execution_count": 27,
   "metadata": {},
   "outputs": [],
   "source": [
    "X = []\n",
    "y = []\n",
    "for path in  path_to_images:\n",
    "    image = cv2.imread(path)\n",
    "    labels = np.unique(image.reshape(-1, 3), axis=0)\n",
    "    intersection = list(set(map(tuple, labels)).intersection(set(map(tuple, label_colors))))\n",
    "    intersection = [list(item) for item in intersection]\n",
    "    _label = []\n",
    "    for index in range(len(label_colors)):\n",
    "        if (label_colors[index] in intersection):\n",
    "            _label.append(1)\n",
    "        else: _label.append(0)\n",
    "    X.append(image)\n",
    "    y.append(_label)"
   ]
  },
  {
   "cell_type": "code",
   "execution_count": 28,
   "metadata": {},
   "outputs": [],
   "source": [
    "from sklearn.svm import SVC\n",
    "from sklearn.metrics import accuracy_score, jaccard_score, \\\n",
    "                    precision_score, recall_score, f1_score\n",
    "from sklearn.model_selection import train_test_split\n",
    "from sklearn.linear_model import LogisticRegression"
   ]
  },
  {
   "cell_type": "code",
   "execution_count": 29,
   "metadata": {},
   "outputs": [],
   "source": [
    "# Convert the lists to numpy arrays\n",
    "X = np.array(X)\n",
    "X = np.reshape(X, (X.shape[0], X.shape[1] * X.shape[2] * X.shape[3]))\n",
    "y = np.array(y)\n",
    "\n",
    "# Split the data into training and testing sets\n",
    "X_train, X_test, y_train, y_test = train_test_split(X, y, test_size=0.2, random_state=42)"
   ]
  },
  {
   "attachments": {},
   "cell_type": "markdown",
   "metadata": {},
   "source": [
    "## Model"
   ]
  },
  {
   "cell_type": "code",
   "execution_count": 30,
   "metadata": {},
   "outputs": [],
   "source": [
    "logreg = LogisticRegression(multi_class='multinomial', solver='lbfgs', max_iter=1000, random_state=42)"
   ]
  },
  {
   "attachments": {},
   "cell_type": "markdown",
   "metadata": {},
   "source": [
    "## One-vs-all"
   ]
  },
  {
   "cell_type": "code",
   "execution_count": 50,
   "metadata": {},
   "outputs": [
    {
     "name": "stderr",
     "output_type": "stream",
     "text": [
      "/home/richardn/Documents/IDU/AIBiaisHunter/env/lib/python3.11/site-packages/sklearn/metrics/_classification.py:1344: UndefinedMetricWarning: Precision is ill-defined and being set to 0.0 due to no predicted samples. Use `zero_division` parameter to control this behavior.\n",
      "  _warn_prf(average, modifier, msg_start, len(result))\n",
      "/home/richardn/Documents/IDU/AIBiaisHunter/env/lib/python3.11/site-packages/sklearn/metrics/_classification.py:1344: UndefinedMetricWarning: Precision is ill-defined and being set to 0.0 due to no predicted samples. Use `zero_division` parameter to control this behavior.\n",
      "  _warn_prf(average, modifier, msg_start, len(result))\n"
     ]
    }
   ],
   "source": [
    "perfs = []\n",
    "for index_ in range(len(label_colors)):\n",
    "    try:\n",
    "        list_ = []\n",
    "        logreg.fit(X_train, y_train[:, index_])\n",
    "        \n",
    "        # Evaluate the SVM model\n",
    "        y_pred = logreg.predict(X_test)\n",
    "        \n",
    "        list_.append(label_names[index_])\n",
    "        list_.append(jaccard_score(y_test[:, index_], y_pred, average='macro'))\n",
    "        list_.append(accuracy_score(y_test[:, index_], y_pred))\n",
    "        list_.append(precision_score(y_test[:, index_], y_pred))\n",
    "        list_.append(recall_score(y_test[:, index_], y_pred, average='weighted'))\n",
    "        list_.append(f1_score(y_test[:, index_], y_pred, average='weighted'))\n",
    "\n",
    "        perfs.append(list_)\n",
    "    \n",
    "    except ValueError:\n",
    "        perfs.append([label_names[index_], 0.2,0.2,0.2,0.2,0.2])"
   ]
  },
  {
   "cell_type": "code",
   "execution_count": 51,
   "metadata": {},
   "outputs": [],
   "source": [
    "df = pd.DataFrame(perfs, columns=['class', 'jaccard_score', 'accuracy_score', 'precision_score', 'recall_score', 'f1_score'])"
   ]
  },
  {
   "cell_type": "code",
   "execution_count": 52,
   "metadata": {},
   "outputs": [],
   "source": [
    "df.to_csv('output.csv')"
   ]
  }
 ],
 "metadata": {
  "kernelspec": {
   "display_name": "env",
   "language": "python",
   "name": "python3"
  },
  "language_info": {
   "codemirror_mode": {
    "name": "ipython",
    "version": 3
   },
   "file_extension": ".py",
   "mimetype": "text/x-python",
   "name": "python",
   "nbconvert_exporter": "python",
   "pygments_lexer": "ipython3",
   "version": "3.11.2"
  },
  "orig_nbformat": 4
 },
 "nbformat": 4,
 "nbformat_minor": 2
}
